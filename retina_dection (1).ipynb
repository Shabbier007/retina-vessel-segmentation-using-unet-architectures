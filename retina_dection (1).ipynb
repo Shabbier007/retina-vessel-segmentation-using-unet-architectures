{
  "nbformat": 4,
  "nbformat_minor": 0,
  "metadata": {
    "colab": {
      "provenance": []
    },
    "kernelspec": {
      "name": "python3",
      "display_name": "Python 3"
    },
    "language_info": {
      "name": "python"
    },
    "accelerator": "GPU",
    "gpuClass": "standard"
  },
  "cells": [
    {
      "cell_type": "code",
      "source": [
        "import os\n",
        "import cv2\n",
        "import numpy as np\n",
        "import pandas as pd\n",
        "import matplotlib.pyplot as plt\n",
        "from tqdm import tqdm"
      ],
      "metadata": {
        "id": "Mpu3ubGTw7Dz"
      },
      "execution_count": null,
      "outputs": []
    },
    {
      "cell_type": "code",
      "execution_count": null,
      "metadata": {
        "colab": {
          "base_uri": "https://localhost:8080/"
        },
        "id": "8BpNAzW4wW3Q",
        "outputId": "f5e49a18-8c7b-4348-a435-e3ef1b41b2b2"
      },
      "outputs": [
        {
          "output_type": "stream",
          "name": "stdout",
          "text": [
            "Mounted at /content/drive\n"
          ]
        }
      ],
      "source": [
        "from google.colab import drive\n",
        "drive.mount('/content/drive')"
      ]
    },
    {
      "cell_type": "code",
      "source": [
        "!unzip '/content/drive/MyDrive/traffic/retina_imgs.zip' -d ./\n",
        "!unzip '/content/bgs.zip' -d ./"
      ],
      "metadata": {
        "colab": {
          "base_uri": "https://localhost:8080/"
        },
        "id": "g-dTSR3UwbsJ",
        "outputId": "4efe85f8-cf14-4861-eaff-91a4f19cfb04"
      },
      "execution_count": null,
      "outputs": [
        {
          "output_type": "stream",
          "name": "stdout",
          "text": [
            "Archive:  /content/bgs.zip\n",
            "   creating: ./content/bg/\n",
            "  inflating: ./content/bg/images.jpeg  \n",
            "  inflating: ./content/bg/WIN_20230317_22_39_10_Pro.jpg  \n",
            "  inflating: ./content/bg/images (1).jpeg  \n",
            "  inflating: ./content/bg/WIN_20230317_22_39_21_Pro.jpg  \n",
            "  inflating: ./content/bg/download.jpeg  \n"
          ]
        }
      ]
    },
    {
      "cell_type": "code",
      "source": [
        "def helper(img):\n",
        "  img = cv2.imread(img, 0)\n",
        "  h, w = img.shape[:2]\n",
        "  bg = np.random.choice(bgs)\n",
        "  if np.random.randint(2): bg = cv2.GaussianBlur(img, (3,3),0)\n",
        "  if np.random.randint(2):\n",
        "    bg = bright_noise(bg)\n",
        "    img = bright_noise(img)\n",
        "  img = cv2.resize(img, (np.random.randint(int(w*0.5), int(w*1)), np.random.randint(int(h*0.5), int(h*1))))\n",
        "  pt = np.random.randint(0,(1000 - max(h,w)))\n",
        "  # sz = np.random.randint(800,1000)\n",
        "  bg = cv2.resize(bg, (1000, 1000))\n",
        "  bg = cv2.GaussianBlur(bg, (3,3), 0)\n",
        "  h,w = img.shape[:2]\n",
        "  img = cv2.resize(img, (np.random.randint(int(w*0.7), int(w*1.2)), np.random.randint(int(h*0.7), int(h*1.2))))\n",
        "  h,w = img.shape[:2]\n",
        "  pt = np.random.randint(0,(1000 - max(h,w)))\n",
        "  bg[pt:pt+h, pt:pt+w] = img\n",
        "  return 0, [pt, pt+w, pt, pt+h], bg\n",
        "\n",
        "def convert(size, box):\n",
        "    dw = 1./size[0]\n",
        "    dh = 1./size[1]\n",
        "    x = (box[0] + box[1])/2.0\n",
        "    y = (box[2] + box[3])/2.0\n",
        "    w = box[1] - box[0]\n",
        "    h = box[3] - box[2]\n",
        "    x = x*dw\n",
        "    w = w*dw\n",
        "    y = y*dh\n",
        "    h = h*dh\n",
        "    return [x,y,w,h]\n",
        "\n",
        "def bright_noise(retimg):\n",
        "  bm = cv2.resize((np.random.rand(np.random.randint(2,20),np.random.randint(2,20))*255).astype(np.uint8),(retimg.shape[1],retimg.shape[0]),cv2.INTER_CUBIC)\n",
        "  bm = cv2.normalize(bm,np.zeros(bm.shape),0,np.random.randint(0,100),cv2.NORM_MINMAX)\n",
        "  retimg = retimg.astype(int)\n",
        "  retimg = retimg+bm\n",
        "  retimg[retimg>255]=255\n",
        "  retimg = retimg.astype(np.uint8)\n",
        "  retimg = cv2.normalize(retimg,np.zeros(bm.shape),0,255,cv2.NORM_MINMAX)\n",
        "  return retimg"
      ],
      "metadata": {
        "id": "Wp6hUqXswskk"
      },
      "execution_count": null,
      "outputs": []
    },
    {
      "cell_type": "code",
      "source": [
        "bgs = [cv2.imread('/content/content/bg/'+i, 0) for i in os.listdir('/content/content/bg')]\n",
        "# aspect ratio 1:1.5 to 2\n",
        "import time \n",
        "import shutil\n",
        "import pandas as pd\n",
        "save_yolo_dir = '/content/data/'\n",
        "try:\n",
        "  shutil.rmtree(save_yolo_dir)\n",
        "  os.mkdir(save_yolo_dir)\n",
        "except:\n",
        "  time.sleep(3)\n",
        "  os.mkdir(save_yolo_dir)\n",
        "time.sleep(3)\n",
        "os.mkdir(save_yolo_dir+'images')\n",
        "time.sleep(3)\n",
        "os.mkdir(save_yolo_dir+'images/train/')\n",
        "os.mkdir(save_yolo_dir+'images/val/')\n",
        "os.mkdir(save_yolo_dir+'labels')\n",
        "time.sleep(3)\n",
        "os.mkdir(save_yolo_dir+'labels/train/')\n",
        "os.mkdir(save_yolo_dir+'labels/val/')\n",
        "\n",
        "# src_dir = \"/content/drive/MyDrive/keys detector/keys annotations/images/train\"\n",
        "# dst_dir = \"/content/data/images/train\"\n",
        "# for jpgfile in glob.iglob(os.path.join(src_dir, \"*.jpg\")):\n",
        "#     shutil.copy(jpgfile, dst_dir)\n",
        "\n",
        "# src_dir = '/content/drive/MyDrive/keys detector/keys annotations_dl/keys annotations/labels/train'\n",
        "# dst_dir = '/content/data/labels/train'\n",
        "# for txt in glob.iglob(os.path.join(src_dir, \"*.xml\")):\n",
        "#   shutil.copy(txt, dst_dir)\n",
        "ddir = '/content/retina_imgs/'\n",
        "imgss = np.array(os.listdir(ddir))\n",
        "np.random.shuffle(imgss)\n",
        "testing_ratio = 0.1\n",
        "gen_sample = 4000\n",
        "test_sample = int(gen_sample*testing_ratio)\n",
        "for i in imgss[:]:\n",
        "  # img = np.random.choice(bgs)\n",
        "  # print(resize_pt,cropped_img.shape)\n",
        "  for k in range(4):\n",
        "    label, pts, final_img= helper(ddir+i)\n",
        "    key_loc = [[label]+convert(final_img.shape[:2][::-1], pts)]\n",
        "    key_loc = pd.DataFrame(key_loc)\n",
        "    if not np.random.choice([0,1,2,3,4,5,6]):\n",
        "      key_loc.to_csv('/content/data/labels/val/'+ str(i)+str(k)+'.txt', index = False, header = False, sep=' ')\n",
        "      cv2.imwrite('/content/data/images/val/'+ str(i)+str(k)+'.jpg', final_img)\n",
        "    else:\n",
        "      key_loc.to_csv('/content/data/labels/train/'+ str(i)+str(k)+'.txt', index = False, header = False, sep=' ')\n",
        "      cv2.imwrite('/content/data/images/train/'+ str(i)+str(k)+'.jpg', final_img)\n",
        "    # img = x.copy()\n",
        "\n",
        "\n",
        "\n",
        "classes_ = ['detect']\n",
        "nc = len(classes_)\n",
        "yamlstr = f'''train: {save_yolo_dir}images/train/  \\nval: {save_yolo_dir}images/val/  \\nnc: {nc}  \\nnames: {classes_} '''\n",
        "try:\n",
        "    os.remove(\"/content/cc.yaml\")\n",
        "except:pass\n",
        "file1 = open(\"/content/cc.yaml\",\"a\")#append mode\n",
        "file1.write(yamlstr)\n",
        "file1.close()"
      ],
      "metadata": {
        "colab": {
          "base_uri": "https://localhost:8080/"
        },
        "id": "6SKRme5vwuxP",
        "outputId": "31791d4c-d89e-434b-adaa-d82ee27b8904"
      },
      "execution_count": null,
      "outputs": [
        {
          "output_type": "stream",
          "name": "stderr",
          "text": [
            "<ipython-input-11-b2c5f685909b>:4: VisibleDeprecationWarning: Creating an ndarray from ragged nested sequences (which is a list-or-tuple of lists-or-tuples-or ndarrays with different lengths or shapes) is deprecated. If you meant to do this, you must specify 'dtype=object' when creating the ndarray.\n",
            "  bg = np.random.choice(bgs)\n"
          ]
        }
      ]
    },
    {
      "cell_type": "code",
      "source": [
        "len(os.listdir('/content/data/labels/train/'))"
      ],
      "metadata": {
        "colab": {
          "base_uri": "https://localhost:8080/"
        },
        "id": "bGj5KUQ0TdZ7",
        "outputId": "09a8e047-0771-45de-b583-0b3a775f9603"
      },
      "execution_count": null,
      "outputs": [
        {
          "output_type": "execute_result",
          "data": {
            "text/plain": [
              "147"
            ]
          },
          "metadata": {},
          "execution_count": 18
        }
      ]
    },
    {
      "cell_type": "code",
      "source": [
        "!git clone https://github.com/ultralytics/yolov5  # clone\n",
        "%cd yolov5\n",
        "%pip install -qr requirements.txt  # install\n",
        "\n",
        "import torch\n",
        "import utils\n",
        "display = utils.notebook_init()  # checks"
      ],
      "metadata": {
        "colab": {
          "base_uri": "https://localhost:8080/"
        },
        "id": "Qq20jMLE4gCb",
        "outputId": "b6445fbc-ca9a-4712-89a0-4dc5f6403632"
      },
      "execution_count": null,
      "outputs": [
        {
          "output_type": "stream",
          "name": "stderr",
          "text": [
            "YOLOv5 🚀 v7.0-140-g1db9533 Python-3.9.16 torch-2.0.0+cu118 CUDA:0 (Tesla T4, 15102MiB)\n"
          ]
        },
        {
          "output_type": "stream",
          "name": "stdout",
          "text": [
            "Setup complete ✅ (2 CPUs, 12.7 GB RAM, 23.3/78.2 GB disk)\n"
          ]
        }
      ]
    },
    {
      "cell_type": "code",
      "source": [
        "# Train YOLOv5s on COCO128 for 3 epochs\n",
        "!python train.py --img 640 --batch 30 --epochs 40 --data /content/cc.yaml --weights yolov5m.pt --cache --hyp /content/yolov5/data/hyps/hyp.scratch-low.yaml"
      ],
      "metadata": {
        "colab": {
          "base_uri": "https://localhost:8080/"
        },
        "id": "bVhncl7S41Aw",
        "outputId": "4e85d2f2-8a18-41d9-d9b9-e1c7356b782f"
      },
      "execution_count": null,
      "outputs": [
        {
          "output_type": "stream",
          "name": "stdout",
          "text": [
            "\u001b[34m\u001b[1mtrain: \u001b[0mweights=yolov5m.pt, cfg=, data=/content/cc.yaml, hyp=/content/yolov5/data/hyps/hyp.scratch-low.yaml, epochs=40, batch_size=30, imgsz=640, rect=False, resume=False, nosave=False, noval=False, noautoanchor=False, noplots=False, evolve=None, bucket=, cache=ram, image_weights=False, device=, multi_scale=False, single_cls=False, optimizer=SGD, sync_bn=False, workers=8, project=runs/train, name=exp, exist_ok=False, quad=False, cos_lr=False, label_smoothing=0.0, patience=100, freeze=[0], save_period=-1, seed=0, local_rank=-1, entity=None, upload_dataset=False, bbox_interval=-1, artifact_alias=latest\n",
            "\u001b[34m\u001b[1mgithub: \u001b[0mup to date with https://github.com/ultralytics/yolov5 ✅\n",
            "YOLOv5 🚀 v7.0-140-g1db9533 Python-3.9.16 torch-2.0.0+cu118 CUDA:0 (Tesla T4, 15102MiB)\n",
            "\n",
            "\u001b[34m\u001b[1mhyperparameters: \u001b[0mlr0=0.01, lrf=0.01, momentum=0.937, weight_decay=0.0005, warmup_epochs=35.0, warmup_momentum=0.8, warmup_bias_lr=0.1, box=0.05, cls=0.3, cls_pw=1.0, obj=1.0, obj_pw=1.0, iou_t=0.2, anchor_t=4.0, fl_gamma=0.0, hsv_h=0.015, hsv_s=0.7, hsv_v=0.4, degrees=0.9, translate=0.1, scale=0.3, shear=0.0, perspective=0.001, flipud=0.0, fliplr=0.0, mosaic=0.0, mixup=0.0, copy_paste=0.0\n",
            "\u001b[34m\u001b[1mClearML: \u001b[0mrun 'pip install clearml' to automatically track, visualize and remotely train YOLOv5 🚀 in ClearML\n",
            "\u001b[34m\u001b[1mComet: \u001b[0mrun 'pip install comet_ml' to automatically track and visualize YOLOv5 🚀 runs in Comet\n",
            "\u001b[34m\u001b[1mTensorBoard: \u001b[0mStart with 'tensorboard --logdir runs/train', view at http://localhost:6006/\n",
            "Downloading https://github.com/ultralytics/yolov5/releases/download/v7.0/yolov5m.pt to yolov5m.pt...\n",
            "100% 40.8M/40.8M [00:02<00:00, 18.1MB/s]\n",
            "\n",
            "Overriding model.yaml nc=80 with nc=1\n",
            "\n",
            "                 from  n    params  module                                  arguments                     \n",
            "  0                -1  1      5280  models.common.Conv                      [3, 48, 6, 2, 2]              \n",
            "  1                -1  1     41664  models.common.Conv                      [48, 96, 3, 2]                \n",
            "  2                -1  2     65280  models.common.C3                        [96, 96, 2]                   \n",
            "  3                -1  1    166272  models.common.Conv                      [96, 192, 3, 2]               \n",
            "  4                -1  4    444672  models.common.C3                        [192, 192, 4]                 \n",
            "  5                -1  1    664320  models.common.Conv                      [192, 384, 3, 2]              \n",
            "  6                -1  6   2512896  models.common.C3                        [384, 384, 6]                 \n",
            "  7                -1  1   2655744  models.common.Conv                      [384, 768, 3, 2]              \n",
            "  8                -1  2   4134912  models.common.C3                        [768, 768, 2]                 \n",
            "  9                -1  1   1476864  models.common.SPPF                      [768, 768, 5]                 \n",
            " 10                -1  1    295680  models.common.Conv                      [768, 384, 1, 1]              \n",
            " 11                -1  1         0  torch.nn.modules.upsampling.Upsample    [None, 2, 'nearest']          \n",
            " 12           [-1, 6]  1         0  models.common.Concat                    [1]                           \n",
            " 13                -1  2   1182720  models.common.C3                        [768, 384, 2, False]          \n",
            " 14                -1  1     74112  models.common.Conv                      [384, 192, 1, 1]              \n",
            " 15                -1  1         0  torch.nn.modules.upsampling.Upsample    [None, 2, 'nearest']          \n",
            " 16           [-1, 4]  1         0  models.common.Concat                    [1]                           \n",
            " 17                -1  2    296448  models.common.C3                        [384, 192, 2, False]          \n",
            " 18                -1  1    332160  models.common.Conv                      [192, 192, 3, 2]              \n",
            " 19          [-1, 14]  1         0  models.common.Concat                    [1]                           \n",
            " 20                -1  2   1035264  models.common.C3                        [384, 384, 2, False]          \n",
            " 21                -1  1   1327872  models.common.Conv                      [384, 384, 3, 2]              \n",
            " 22          [-1, 10]  1         0  models.common.Concat                    [1]                           \n",
            " 23                -1  2   4134912  models.common.C3                        [768, 768, 2, False]          \n",
            " 24      [17, 20, 23]  1     24246  models.yolo.Detect                      [1, [[10, 13, 16, 30, 33, 23], [30, 61, 62, 45, 59, 119], [116, 90, 156, 198, 373, 326]], [192, 384, 768]]\n",
            "Model summary: 291 layers, 20871318 parameters, 20871318 gradients, 48.2 GFLOPs\n",
            "\n",
            "Transferred 475/481 items from yolov5m.pt\n",
            "\u001b[34m\u001b[1mAMP: \u001b[0mchecks passed ✅\n",
            "\u001b[34m\u001b[1moptimizer:\u001b[0m SGD(lr=0.01) with parameter groups 79 weight(decay=0.0), 82 weight(decay=0.00046875), 82 bias\n",
            "\u001b[34m\u001b[1malbumentations: \u001b[0mBlur(p=0.01, blur_limit=(3, 7)), MedianBlur(p=0.01, blur_limit=(3, 7)), ToGray(p=0.01), CLAHE(p=0.01, clip_limit=(1, 4.0), tile_grid_size=(8, 8))\n",
            "\u001b[34m\u001b[1mtrain: \u001b[0mScanning /content/data/labels/train... 147 images, 0 backgrounds, 0 corrupt: 100% 147/147 [00:00<00:00, 1860.01it/s]\n",
            "\u001b[34m\u001b[1mtrain: \u001b[0mNew cache created: /content/data/labels/train.cache\n",
            "\u001b[34m\u001b[1mtrain: \u001b[0mCaching images (0.2GB ram): 100% 147/147 [00:01<00:00, 119.00it/s]\n",
            "\u001b[34m\u001b[1mval: \u001b[0mScanning /content/data/labels/val... 13 images, 0 backgrounds, 0 corrupt: 100% 13/13 [00:00<00:00, 787.95it/s]\n",
            "\u001b[34m\u001b[1mval: \u001b[0mNew cache created: /content/data/labels/val.cache\n",
            "\u001b[34m\u001b[1mval: \u001b[0mCaching images (0.0GB ram): 100% 13/13 [00:00<00:00, 21.47it/s]\n",
            "\n",
            "\u001b[34m\u001b[1mAutoAnchor: \u001b[0m3.34 anchors/target, 1.000 Best Possible Recall (BPR). Current anchors are a good fit to dataset ✅\n",
            "Plotting labels to runs/train/exp/labels.jpg... \n",
            "Image sizes 640 train, 640 val\n",
            "Using 2 dataloader workers\n",
            "Logging results to \u001b[1mruns/train/exp\u001b[0m\n",
            "Starting training for 40 epochs...\n",
            "\n",
            "      Epoch    GPU_mem   box_loss   obj_loss   cls_loss  Instances       Size\n",
            "       0/39      11.4G    0.07895    0.02221          0         27        640: 100% 5/5 [00:08<00:00,  1.71s/it]\n",
            "                 Class     Images  Instances          P          R      mAP50   mAP50-95: 100% 1/1 [00:01<00:00,  1.45s/it]\n",
            "                   all         13         13    0.00417      0.462     0.0954     0.0201\n",
            "\n",
            "      Epoch    GPU_mem   box_loss   obj_loss   cls_loss  Instances       Size\n",
            "       1/39      11.4G    0.07087    0.02239          0         27        640: 100% 5/5 [00:03<00:00,  1.62it/s]\n",
            "                 Class     Images  Instances          P          R      mAP50   mAP50-95: 100% 1/1 [00:00<00:00,  2.90it/s]\n",
            "                   all         13         13    0.00333          1     0.0764     0.0176\n",
            "\n",
            "      Epoch    GPU_mem   box_loss   obj_loss   cls_loss  Instances       Size\n",
            "       2/39      11.4G    0.04701    0.02293          0         27        640: 100% 5/5 [00:03<00:00,  1.48it/s]\n",
            "                 Class     Images  Instances          P          R      mAP50   mAP50-95: 100% 1/1 [00:00<00:00,  2.17it/s]\n",
            "                   all         13         13     0.0282          1      0.489      0.152\n",
            "\n",
            "      Epoch    GPU_mem   box_loss   obj_loss   cls_loss  Instances       Size\n",
            "       3/39      11.4G    0.03919    0.02196          0         27        640: 100% 5/5 [00:03<00:00,  1.66it/s]\n",
            "                 Class     Images  Instances          P          R      mAP50   mAP50-95: 100% 1/1 [00:00<00:00,  3.55it/s]\n",
            "                   all         13         13       0.62      0.628      0.813      0.231\n",
            "\n",
            "      Epoch    GPU_mem   box_loss   obj_loss   cls_loss  Instances       Size\n",
            "       4/39      11.4G    0.03492    0.02061          0         27        640: 100% 5/5 [00:02<00:00,  1.67it/s]\n",
            "                 Class     Images  Instances          P          R      mAP50   mAP50-95: 100% 1/1 [00:00<00:00,  4.09it/s]\n",
            "                   all         13         13          1       0.69      0.984       0.46\n",
            "\n",
            "      Epoch    GPU_mem   box_loss   obj_loss   cls_loss  Instances       Size\n",
            "       5/39      11.4G    0.02866    0.01902          0         27        640: 100% 5/5 [00:03<00:00,  1.48it/s]\n",
            "                 Class     Images  Instances          P          R      mAP50   mAP50-95: 100% 1/1 [00:00<00:00,  2.41it/s]\n",
            "                   all         13         13      0.961      0.769      0.941       0.37\n",
            "\n",
            "      Epoch    GPU_mem   box_loss   obj_loss   cls_loss  Instances       Size\n",
            "       6/39      11.4G    0.02887     0.0169          0         27        640: 100% 5/5 [00:03<00:00,  1.66it/s]\n",
            "                 Class     Images  Instances          P          R      mAP50   mAP50-95: 100% 1/1 [00:00<00:00,  4.82it/s]\n",
            "                   all         13         13      0.446      0.692      0.642       0.29\n",
            "\n",
            "      Epoch    GPU_mem   box_loss   obj_loss   cls_loss  Instances       Size\n",
            "       7/39      11.4G    0.02622    0.01508          0         27        640: 100% 5/5 [00:03<00:00,  1.66it/s]\n",
            "                 Class     Images  Instances          P          R      mAP50   mAP50-95: 100% 1/1 [00:00<00:00,  4.68it/s]\n",
            "                   all         13         13      0.466      0.692      0.626      0.279\n",
            "\n",
            "      Epoch    GPU_mem   box_loss   obj_loss   cls_loss  Instances       Size\n",
            "       8/39      11.4G    0.02634    0.01359          0         27        640: 100% 5/5 [00:03<00:00,  1.60it/s]\n",
            "                 Class     Images  Instances          P          R      mAP50   mAP50-95: 100% 1/1 [00:00<00:00,  3.00it/s]\n",
            "                   all         13         13      0.918      0.862      0.923      0.358\n",
            "\n",
            "      Epoch    GPU_mem   box_loss   obj_loss   cls_loss  Instances       Size\n",
            "       9/39      11.4G    0.02649    0.01201          0         27        640: 100% 5/5 [00:03<00:00,  1.53it/s]\n",
            "                 Class     Images  Instances          P          R      mAP50   mAP50-95: 100% 1/1 [00:00<00:00,  5.20it/s]\n",
            "                   all         13         13      0.557          1      0.742      0.351\n",
            "\n",
            "      Epoch    GPU_mem   box_loss   obj_loss   cls_loss  Instances       Size\n",
            "      10/39      11.4G    0.02593    0.01116          0         27        640: 100% 5/5 [00:03<00:00,  1.64it/s]\n",
            "                 Class     Images  Instances          P          R      mAP50   mAP50-95: 100% 1/1 [00:00<00:00,  5.21it/s]\n",
            "                   all         13         13      0.447      0.923      0.644      0.255\n",
            "\n",
            "      Epoch    GPU_mem   box_loss   obj_loss   cls_loss  Instances       Size\n",
            "      11/39      11.4G    0.02322    0.01055          0         27        640: 100% 5/5 [00:03<00:00,  1.65it/s]\n",
            "                 Class     Images  Instances          P          R      mAP50   mAP50-95: 100% 1/1 [00:00<00:00,  5.37it/s]\n",
            "                   all         13         13      0.575          1      0.834      0.466\n",
            "\n",
            "      Epoch    GPU_mem   box_loss   obj_loss   cls_loss  Instances       Size\n",
            "      12/39      11.4G    0.02442   0.009957          0         27        640: 100% 5/5 [00:03<00:00,  1.53it/s]\n",
            "                 Class     Images  Instances          P          R      mAP50   mAP50-95: 100% 1/1 [00:00<00:00,  2.85it/s]\n",
            "                   all         13         13      0.907          1      0.979      0.497\n",
            "\n",
            "      Epoch    GPU_mem   box_loss   obj_loss   cls_loss  Instances       Size\n",
            "      13/39      11.4G    0.02039   0.009425          0         27        640: 100% 5/5 [00:03<00:00,  1.60it/s]\n",
            "                 Class     Images  Instances          P          R      mAP50   mAP50-95: 100% 1/1 [00:00<00:00,  4.48it/s]\n",
            "                   all         13         13      0.533          1      0.773      0.428\n",
            "\n",
            "      Epoch    GPU_mem   box_loss   obj_loss   cls_loss  Instances       Size\n",
            "      14/39      11.4G    0.02236    0.00887          0         27        640: 100% 5/5 [00:03<00:00,  1.63it/s]\n",
            "                 Class     Images  Instances          P          R      mAP50   mAP50-95: 100% 1/1 [00:00<00:00,  5.75it/s]\n",
            "                   all         13         13      0.585      0.769      0.707      0.361\n",
            "\n",
            "      Epoch    GPU_mem   box_loss   obj_loss   cls_loss  Instances       Size\n",
            "      15/39      11.4G    0.02177   0.008519          0         27        640: 100% 5/5 [00:03<00:00,  1.60it/s]\n",
            "                 Class     Images  Instances          P          R      mAP50   mAP50-95: 100% 1/1 [00:00<00:00,  3.17it/s]\n",
            "                   all         13         13       0.66      0.895      0.792      0.551\n",
            "\n",
            "      Epoch    GPU_mem   box_loss   obj_loss   cls_loss  Instances       Size\n",
            "      16/39      11.4G     0.0211   0.008374          0         27        640: 100% 5/5 [00:03<00:00,  1.56it/s]\n",
            "                 Class     Images  Instances          P          R      mAP50   mAP50-95: 100% 1/1 [00:00<00:00,  5.81it/s]\n",
            "                   all         13         13      0.654      0.923      0.766      0.476\n",
            "\n",
            "      Epoch    GPU_mem   box_loss   obj_loss   cls_loss  Instances       Size\n",
            "      17/39      11.4G    0.02134   0.007826          0         27        640: 100% 5/5 [00:03<00:00,  1.64it/s]\n",
            "                 Class     Images  Instances          P          R      mAP50   mAP50-95: 100% 1/1 [00:00<00:00,  5.80it/s]\n",
            "                   all         13         13      0.864       0.98      0.944      0.531\n",
            "\n",
            "      Epoch    GPU_mem   box_loss   obj_loss   cls_loss  Instances       Size\n",
            "      18/39      11.4G    0.02008   0.007797          0         27        640: 100% 5/5 [00:03<00:00,  1.65it/s]\n",
            "                 Class     Images  Instances          P          R      mAP50   mAP50-95: 100% 1/1 [00:00<00:00,  5.44it/s]\n",
            "                   all         13         13      0.967          1      0.995      0.517\n",
            "\n",
            "      Epoch    GPU_mem   box_loss   obj_loss   cls_loss  Instances       Size\n",
            "      19/39      11.4G     0.0204    0.00779          0         27        640: 100% 5/5 [00:03<00:00,  1.56it/s]\n",
            "                 Class     Images  Instances          P          R      mAP50   mAP50-95: 100% 1/1 [00:00<00:00,  3.16it/s]\n",
            "                   all         13         13      0.709          1      0.836      0.641\n",
            "\n",
            "      Epoch    GPU_mem   box_loss   obj_loss   cls_loss  Instances       Size\n",
            "      20/39      11.4G    0.02019   0.007789          0         27        640: 100% 5/5 [00:03<00:00,  1.62it/s]\n",
            "                 Class     Images  Instances          P          R      mAP50   mAP50-95: 100% 1/1 [00:00<00:00,  5.73it/s]\n",
            "                   all         13         13       0.85          1      0.964      0.688\n",
            "\n",
            "      Epoch    GPU_mem   box_loss   obj_loss   cls_loss  Instances       Size\n",
            "      21/39      11.4G    0.01795   0.007469          0         27        640: 100% 5/5 [00:03<00:00,  1.62it/s]\n",
            "                 Class     Images  Instances          P          R      mAP50   mAP50-95: 100% 1/1 [00:00<00:00,  5.95it/s]\n",
            "                   all         13         13      0.987          1      0.995      0.422\n",
            "\n",
            "      Epoch    GPU_mem   box_loss   obj_loss   cls_loss  Instances       Size\n",
            "      22/39      11.4G    0.01849   0.007649          0         27        640: 100% 5/5 [00:03<00:00,  1.60it/s]\n",
            "                 Class     Images  Instances          P          R      mAP50   mAP50-95: 100% 1/1 [00:00<00:00,  3.77it/s]\n",
            "                   all         13         13      0.991          1      0.995       0.41\n",
            "\n",
            "      Epoch    GPU_mem   box_loss   obj_loss   cls_loss  Instances       Size\n",
            "      23/39      11.4G    0.01726   0.006996          0         27        640: 100% 5/5 [00:03<00:00,  1.49it/s]\n",
            "                 Class     Images  Instances          P          R      mAP50   mAP50-95: 100% 1/1 [00:00<00:00,  5.20it/s]\n",
            "                   all         13         13      0.991          1      0.995      0.715\n",
            "\n",
            "      Epoch    GPU_mem   box_loss   obj_loss   cls_loss  Instances       Size\n",
            "      24/39      11.4G    0.01669   0.007163          0         27        640: 100% 5/5 [00:03<00:00,  1.61it/s]\n",
            "                 Class     Images  Instances          P          R      mAP50   mAP50-95: 100% 1/1 [00:00<00:00,  5.77it/s]\n",
            "                   all         13         13      0.992          1      0.995      0.716\n",
            "\n",
            "      Epoch    GPU_mem   box_loss   obj_loss   cls_loss  Instances       Size\n",
            "      25/39      11.4G    0.01731   0.007067          0         27        640: 100% 5/5 [00:03<00:00,  1.58it/s]\n",
            "                 Class     Images  Instances          P          R      mAP50   mAP50-95: 100% 1/1 [00:00<00:00,  5.66it/s]\n",
            "                   all         13         13      0.995          1      0.995      0.657\n",
            "\n",
            "      Epoch    GPU_mem   box_loss   obj_loss   cls_loss  Instances       Size\n",
            "      26/39      11.4G    0.01596    0.00673          0         27        640: 100% 5/5 [00:03<00:00,  1.47it/s]\n",
            "                 Class     Images  Instances          P          R      mAP50   mAP50-95: 100% 1/1 [00:00<00:00,  3.10it/s]\n",
            "                   all         13         13      0.995          1      0.995      0.655\n",
            "\n",
            "      Epoch    GPU_mem   box_loss   obj_loss   cls_loss  Instances       Size\n",
            "      27/39      11.4G    0.01598   0.006644          0         27        640: 100% 5/5 [00:03<00:00,  1.57it/s]\n",
            "                 Class     Images  Instances          P          R      mAP50   mAP50-95: 100% 1/1 [00:00<00:00,  5.88it/s]\n",
            "                   all         13         13      0.995          1      0.995      0.722\n",
            "\n",
            "      Epoch    GPU_mem   box_loss   obj_loss   cls_loss  Instances       Size\n",
            "      28/39      11.4G    0.01533   0.006405          0         27        640: 100% 5/5 [00:03<00:00,  1.58it/s]\n",
            "                 Class     Images  Instances          P          R      mAP50   mAP50-95: 100% 1/1 [00:00<00:00,  5.67it/s]\n",
            "                   all         13         13      0.995          1      0.995      0.762\n",
            "\n",
            "      Epoch    GPU_mem   box_loss   obj_loss   cls_loss  Instances       Size\n",
            "      29/39      11.4G    0.01384   0.006398          0         27        640: 100% 5/5 [00:03<00:00,  1.48it/s]\n",
            "                 Class     Images  Instances          P          R      mAP50   mAP50-95: 100% 1/1 [00:00<00:00,  3.25it/s]\n",
            "                   all         13         13          1      0.987      0.995      0.574\n",
            "\n",
            "      Epoch    GPU_mem   box_loss   obj_loss   cls_loss  Instances       Size\n",
            "      30/39      11.4G    0.01504   0.006236          0         27        640: 100% 5/5 [00:03<00:00,  1.55it/s]\n",
            "                 Class     Images  Instances          P          R      mAP50   mAP50-95: 100% 1/1 [00:00<00:00,  5.65it/s]\n",
            "                   all         13         13      0.993          1      0.995       0.68\n",
            "\n",
            "      Epoch    GPU_mem   box_loss   obj_loss   cls_loss  Instances       Size\n",
            "      31/39      11.4G    0.01351   0.006257          0         27        640: 100% 5/5 [00:03<00:00,  1.53it/s]\n",
            "                 Class     Images  Instances          P          R      mAP50   mAP50-95: 100% 1/1 [00:00<00:00,  5.79it/s]\n",
            "                   all         13         13      0.993          1      0.995      0.795\n",
            "\n",
            "      Epoch    GPU_mem   box_loss   obj_loss   cls_loss  Instances       Size\n",
            "      32/39      11.4G    0.01274    0.00564          0         27        640: 100% 5/5 [00:03<00:00,  1.54it/s]\n",
            "                 Class     Images  Instances          P          R      mAP50   mAP50-95: 100% 1/1 [00:00<00:00,  3.58it/s]\n",
            "                   all         13         13      0.993          1      0.995      0.833\n",
            "\n",
            "      Epoch    GPU_mem   box_loss   obj_loss   cls_loss  Instances       Size\n",
            "      33/39      11.4G    0.01154   0.005809          0         27        640: 100% 5/5 [00:03<00:00,  1.45it/s]\n",
            "                 Class     Images  Instances          P          R      mAP50   mAP50-95: 100% 1/1 [00:00<00:00,  5.84it/s]\n",
            "                   all         13         13       0.99          1      0.995      0.708\n",
            "\n",
            "      Epoch    GPU_mem   box_loss   obj_loss   cls_loss  Instances       Size\n",
            "      34/39      11.4G    0.01125   0.005535          0         27        640: 100% 5/5 [00:03<00:00,  1.53it/s]\n",
            "                 Class     Images  Instances          P          R      mAP50   mAP50-95: 100% 1/1 [00:00<00:00,  5.71it/s]\n",
            "                   all         13         13      0.988          1      0.995      0.788\n",
            "\n",
            "      Epoch    GPU_mem   box_loss   obj_loss   cls_loss  Instances       Size\n",
            "      35/39      11.4G    0.01032   0.005296          0         27        640: 100% 5/5 [00:03<00:00,  1.52it/s]\n",
            "                 Class     Images  Instances          P          R      mAP50   mAP50-95: 100% 1/1 [00:00<00:00,  5.69it/s]\n",
            "                   all         13         13      0.989          1      0.995      0.903\n",
            "\n",
            "      Epoch    GPU_mem   box_loss   obj_loss   cls_loss  Instances       Size\n",
            "      36/39      11.4G    0.00994   0.005294          0         27        640: 100% 5/5 [00:03<00:00,  1.43it/s]\n",
            "                 Class     Images  Instances          P          R      mAP50   mAP50-95: 100% 1/1 [00:00<00:00,  3.24it/s]\n",
            "                   all         13         13      0.987          1      0.995      0.792\n",
            "\n",
            "      Epoch    GPU_mem   box_loss   obj_loss   cls_loss  Instances       Size\n",
            "      37/39      11.4G   0.009385    0.00502          0         27        640: 100% 5/5 [00:03<00:00,  1.53it/s]\n",
            "                 Class     Images  Instances          P          R      mAP50   mAP50-95: 100% 1/1 [00:00<00:00,  5.66it/s]\n",
            "                   all         13         13      0.987          1      0.995      0.908\n",
            "\n",
            "      Epoch    GPU_mem   box_loss   obj_loss   cls_loss  Instances       Size\n",
            "      38/39      11.4G    0.00911   0.005081          0         27        640: 100% 5/5 [00:03<00:00,  1.56it/s]\n",
            "                 Class     Images  Instances          P          R      mAP50   mAP50-95: 100% 1/1 [00:00<00:00,  5.73it/s]\n",
            "                   all         13         13      0.986          1      0.995      0.857\n",
            "\n",
            "      Epoch    GPU_mem   box_loss   obj_loss   cls_loss  Instances       Size\n",
            "      39/39      11.4G   0.008087   0.004843          0         27        640: 100% 5/5 [00:03<00:00,  1.46it/s]\n",
            "                 Class     Images  Instances          P          R      mAP50   mAP50-95: 100% 1/1 [00:00<00:00,  3.24it/s]\n",
            "                   all         13         13      0.986          1      0.995      0.899\n",
            "\n",
            "40 epochs completed in 0.050 hours.\n",
            "Optimizer stripped from runs/train/exp/weights/last.pt, 42.2MB\n",
            "Optimizer stripped from runs/train/exp/weights/best.pt, 42.2MB\n",
            "\n",
            "Validating runs/train/exp/weights/best.pt...\n",
            "Fusing layers... \n",
            "Model summary: 212 layers, 20852934 parameters, 0 gradients, 47.9 GFLOPs\n",
            "                 Class     Images  Instances          P          R      mAP50   mAP50-95: 100% 1/1 [00:00<00:00,  3.89it/s]\n",
            "                   all         13         13      0.987          1      0.995      0.872\n",
            "Results saved to \u001b[1mruns/train/exp\u001b[0m\n"
          ]
        }
      ]
    },
    {
      "cell_type": "code",
      "source": [
        "import shutil\n",
        "shutil.copy('./runs/train/exp/weights/retina.pt', '/content/drive/MyDrive/malware/')"
      ],
      "metadata": {
        "colab": {
          "base_uri": "https://localhost:8080/",
          "height": 36
        },
        "id": "3lQ01ZpqZAvW",
        "outputId": "c78bda90-9b43-4b30-9868-75553cfeea4d"
      },
      "execution_count": null,
      "outputs": [
        {
          "output_type": "execute_result",
          "data": {
            "text/plain": [
              "'/content/drive/MyDrive/malware/retina.pt'"
            ],
            "application/vnd.google.colaboratory.intrinsic+json": {
              "type": "string"
            }
          },
          "metadata": {},
          "execution_count": 24
        }
      ]
    },
    {
      "cell_type": "code",
      "source": [],
      "metadata": {
        "id": "boFp5dLYmwH8"
      },
      "execution_count": null,
      "outputs": []
    },
    {
      "cell_type": "code",
      "source": [],
      "metadata": {
        "id": "jNfC9wJ8yP-G"
      },
      "execution_count": null,
      "outputs": []
    }
  ]
}